{
 "cells": [
  {
   "cell_type": "code",
   "execution_count": 4,
   "id": "0836f90d",
   "metadata": {},
   "outputs": [
    {
     "name": "stdout",
     "output_type": "stream",
     "text": [
      "Enter the text: Life in the forest is a reflection of the natural world . The natural world is a treasure trove of wisdom and beauty . Beauty that has inspired poets , artists , and explorers for centuries . Centuries of human history have passed , yet the enchanting allure of the forest remains as strong as ever .\n",
      "life: 1\n",
      "in: 1\n",
      "the: 5\n",
      "forest: 2\n",
      "is: 2\n",
      "a: 2\n",
      "reflection: 1\n",
      "of: 4\n",
      "natural: 2\n",
      "world: 2\n",
      ".: 4\n",
      "treasure: 1\n",
      "trove: 1\n",
      "wisdom: 1\n",
      "and: 2\n",
      "beauty: 2\n",
      "that: 1\n",
      "has: 1\n",
      "inspired: 1\n",
      "poets: 1\n",
      ",: 3\n",
      "artists: 1\n",
      "explorers: 1\n",
      "for: 1\n",
      "centuries: 2\n",
      "human: 1\n",
      "history: 1\n",
      "have: 1\n",
      "passed: 1\n",
      "yet: 1\n",
      "enchanting: 1\n",
      "allure: 1\n",
      "remains: 1\n",
      "as: 2\n",
      "strong: 1\n",
      "ever: 1\n"
     ]
    }
   ],
   "source": [
    "text = input(\"Enter the text: \")\n",
    "words = text.split()\n",
    "word_freq = {}\n",
    "for word in words:\n",
    "    word = word.lower()\n",
    "    if word in word_freq:\n",
    "        word_freq[word] += 1\n",
    "    else:\n",
    "        word_freq[word] = 1\n",
    "for word, freq in word_freq.items():\n",
    "    print(f\"{word}: {freq}\")"
   ]
  },
  {
   "cell_type": "code",
   "execution_count": null,
   "id": "d20eebbd",
   "metadata": {},
   "outputs": [],
   "source": []
  }
 ],
 "metadata": {
  "kernelspec": {
   "display_name": "Python 3 (ipykernel)",
   "language": "python",
   "name": "python3"
  },
  "language_info": {
   "codemirror_mode": {
    "name": "ipython",
    "version": 3
   },
   "file_extension": ".py",
   "mimetype": "text/x-python",
   "name": "python",
   "nbconvert_exporter": "python",
   "pygments_lexer": "ipython3",
   "version": "3.11.5"
  }
 },
 "nbformat": 4,
 "nbformat_minor": 5
}
