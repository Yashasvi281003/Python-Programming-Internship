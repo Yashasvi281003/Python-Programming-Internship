{
 "cells": [
  {
   "cell_type": "code",
   "execution_count": 1,
   "id": "0190f200",
   "metadata": {},
   "outputs": [
    {
     "name": "stdout",
     "output_type": "stream",
     "text": [
      "Reversed string: !dlrow ,olleH\n"
     ]
    }
   ],
   "source": [
    "def reverse_string(s):\n",
    "    reversed = \"\"\n",
    "    for i in range(len(s) - 1, -1, -1):\n",
    "        reversed += s[i]\n",
    "    return reversed\n",
    "\n",
    "def main():\n",
    "    input_string = \"Hello, world!\"\n",
    "    reversed_string = reverse_string(input_string)\n",
    "    print(f\"Reversed string: {reversed_string}\")\n",
    "\n",
    "if __name__ == \"__main__\":\n",
    "    main()\n"
   ]
  },
  {
   "cell_type": "code",
   "execution_count": 9,
   "id": "657f0b7a",
   "metadata": {},
   "outputs": [
    {
     "name": "stdout",
     "output_type": "stream",
     "text": [
      "Reversed string: !dlrow ,olleH\n"
     ]
    }
   ],
   "source": [
    "def reverse_string(s):\n",
    "    return s[::-1]\n",
    "\n",
    "def main():\n",
    "    input_string = \"Hello, world!\"\n",
    "    reversed_string = reverse_string(input_string)\n",
    "    print(f\"Reversed string: {reversed_string}\")\n",
    "\n",
    "if __name__ == \"__main__\":\n",
    "    main()\n"
   ]
  },
  {
   "cell_type": "code",
   "execution_count": 8,
   "id": "be8a0b43",
   "metadata": {},
   "outputs": [
    {
     "name": "stdout",
     "output_type": "stream",
     "text": [
      "Please enter your age: 60\n",
      "You are 60 years old and eligible.\n"
     ]
    }
   ],
   "source": [
    "def get_age():\n",
    "    age = input(\"Please enter your age: \")\n",
    "    if age.isnumeric() and int(age) >= 18:\n",
    "        return int(age)\n",
    "    else:\n",
    "        return None\n",
    "\n",
    "def main():\n",
    "    age = get_age()\n",
    "    if age:\n",
    "        print(f\"You are {age} years old and eligible.\")\n",
    "    else:\n",
    "        print(\"Invalid input. You must be at least 18 years old.\")\n",
    "\n",
    "if __name__ == \"__main__\":\n",
    "    main()\n"
   ]
  },
  {
   "cell_type": "code",
   "execution_count": 23,
   "id": "d538d476",
   "metadata": {},
   "outputs": [
    {
     "name": "stdout",
     "output_type": "stream",
     "text": [
      "File 'sample.txt' processed successfully.\n"
     ]
    }
   ],
   "source": [
    "def read_and_write_file(filename):\n",
    "    try:\n",
    "        with open(filename, 'r') as file:\n",
    "            content = file.read()\n",
    "        with open(filename, 'w') as file:\n",
    "            file.write(content.upper())\n",
    "        print(f\"File '{filename}' processed successfully.\")\n",
    "    except Exception as e:\n",
    "        print(f\"An error occurred: {str(e)}\")\n",
    "\n",
    "def main():\n",
    "    filename = \"sample.txt\"\n",
    "    read_and_write_file(filename)\n",
    "\n",
    "if __name__ == \"__main__\":\n",
    "    main()\n"
   ]
  },
  {
   "cell_type": "code",
   "execution_count": 24,
   "id": "c7f987d4",
   "metadata": {},
   "outputs": [
    {
     "name": "stdout",
     "output_type": "stream",
     "text": [
      "File 'sample.txt' processed successfully.\n"
     ]
    }
   ],
   "source": [
    "def read_and_write_file(filename):\n",
    "    try:\n",
    "        with open(filename, 'r') as file:\n",
    "            content = file.read()\n",
    "        with open(filename, 'w') as file:\n",
    "            file.write(content.upper())\n",
    "        print(f\"File '{filename}' processed successfully.\")\n",
    "    except Exception as e:\n",
    "        print(f\"An error occurred: {str(e)}\")\n",
    "\n",
    "def main():\n",
    "    filename = \"sample.txt\"\n",
    "    read_and_write_file(filename)\n",
    "\n",
    "if __name__ == \"__main__\":\n",
    "    main()\n"
   ]
  },
  {
   "cell_type": "code",
   "execution_count": 18,
   "id": "a96a2016",
   "metadata": {},
   "outputs": [
    {
     "name": "stdout",
     "output_type": "stream",
     "text": [
      "File 'sample.txt' processed successfully. Original content backed up to 'sample.txt.bak'\n"
     ]
    }
   ],
   "source": [
    "import shutil\n",
    "\n",
    "def read_and_write_file(filename):\n",
    "    try:\n",
    "        # Read the original content\n",
    "        with open(filename, 'r') as file:\n",
    "            content = file.read()\n",
    "        \n",
    "        # Create a backup of the original content\n",
    "        backup_filename = filename + \".bak\"\n",
    "        shutil.copyfile(filename, backup_filename)\n",
    "\n",
    "        # Convert the content to uppercase\n",
    "        content_upper = content.upper()\n",
    "\n",
    "        # Write the uppercase content back to the file\n",
    "        with open(filename, 'w') as file:\n",
    "            file.write(content_upper)\n",
    "\n",
    "        print(f\"File '{filename}' processed successfully. Original content backed up to '{backup_filename}'\")\n",
    "    except FileNotFoundError:\n",
    "        print(f\"File '{filename}' not found.\")\n",
    "    except Exception as e:\n",
    "        print(f\"An error occurred: {str(e)}\")\n",
    "\n",
    "def main():\n",
    "    filename = \"sample.txt\"\n",
    "    read_and_write_file(filename)\n",
    "\n",
    "if __name__ == \"__main__\":\n",
    "    main()\n"
   ]
  },
  {
   "cell_type": "code",
   "execution_count": 22,
   "id": "3ceaa0da",
   "metadata": {},
   "outputs": [
    {
     "name": "stdout",
     "output_type": "stream",
     "text": [
      "The sorted array is: [10, 10, 27, 38, 43, 82, 83, 91]\n"
     ]
    }
   ],
   "source": [
    "def merge_sort(arr):\n",
    "    if len(arr) <= 1:\n",
    "        return arr\n",
    "    \n",
    "    mid = len(arr) // 2\n",
    "    left = arr[:mid]\n",
    "    right = arr[mid:]\n",
    "    \n",
    "    merge_sort(left)\n",
    "    merge_sort(right)\n",
    "    \n",
    "    i = j = k = 0\n",
    "    \n",
    "    while i < len(left) and j < len(right):\n",
    "        if left[i] < right[j]:\n",
    "            arr[k] = left[i]\n",
    "            i += 1\n",
    "        else:\n",
    "            arr[k] = right[j]\n",
    "            j += 1\n",
    "        k += 1\n",
    "    \n",
    "    while i < len(left):\n",
    "        arr[k] = left[i]\n",
    "        i += 1\n",
    "        k += 1\n",
    "    \n",
    "    while j < len(right):\n",
    "        arr[k] = right[j]\n",
    "        j += 1\n",
    "        k += 1\n",
    "    return arr\n",
    "\n",
    "arr = [38, 27, 43, 83, 91, 82, 10, 10]\n",
    "merge_sort(arr)\n",
    "print(f\"The sorted array is: {arr}\")\n"
   ]
  },
  {
   "cell_type": "code",
   "execution_count": 26,
   "id": "9e7d0736",
   "metadata": {},
   "outputs": [
    {
     "name": "stdout",
     "output_type": "stream",
     "text": [
      "File 'sample.txt' processed successfully.\n"
     ]
    }
   ],
   "source": [
    "def read_and_write_file(filename):\n",
    "    try:\n",
    "        with open(filename, 'r') as file:\n",
    "            content = file.read()\n",
    "        with open(filename, 'w') as file:\n",
    "            file.write(content.upper())\n",
    "        print(f\"File '{filename}' processed successfully.\")\n",
    "    except Exception as e:\n",
    "        print(f\"An error occurred: {str(e)}\")\n",
    "\n",
    "def main():\n",
    "    filename = \"sample.txt\"\n",
    "    read_and_write_file(filename)\n",
    "\n",
    "if __name__ == \"__main__\":\n",
    "    main()\n"
   ]
  },
  {
   "cell_type": "code",
   "execution_count": null,
   "id": "b578a0ad",
   "metadata": {},
   "outputs": [],
   "source": []
  }
 ],
 "metadata": {
  "kernelspec": {
   "display_name": "Python 3 (ipykernel)",
   "language": "python",
   "name": "python3"
  },
  "language_info": {
   "codemirror_mode": {
    "name": "ipython",
    "version": 3
   },
   "file_extension": ".py",
   "mimetype": "text/x-python",
   "name": "python",
   "nbconvert_exporter": "python",
   "pygments_lexer": "ipython3",
   "version": "3.11.5"
  }
 },
 "nbformat": 4,
 "nbformat_minor": 5
}
