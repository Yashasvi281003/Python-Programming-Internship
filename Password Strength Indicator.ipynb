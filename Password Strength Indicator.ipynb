{
 "cells": [
  {
   "cell_type": "code",
   "execution_count": null,
   "id": "65f05542",
   "metadata": {},
   "outputs": [],
   "source": [
    "import tkinter as tk\n",
    "from tkinter import ttk\n",
    "\n",
    "def check_password_strength():\n",
    "    password = password_entry.get()\n",
    "    strength = 0\n",
    "\n",
    "    if len(password) > 8:\n",
    "        strength += 1\n",
    "    elif len(password) > 6:\n",
    "        strength += 0.5\n",
    "\n",
    "    if any(char.isupper() for char in password):\n",
    "        strength += 1\n",
    "    if any(char.islower() for char in password):\n",
    "        strength += 1\n",
    "    if any(char.isdigit() for char in password):\n",
    "        strength += 1\n",
    "    if any(char in '!@#$%^&*' for char in password):\n",
    "        strength += 1\n",
    "\n",
    "    if strength < 2:\n",
    "        strength_label.config(text=\"Weak\", foreground=\"red\")\n",
    "    elif strength < 3.5:\n",
    "        strength_label.config(text=\"Medium\", foreground=\"orange\")\n",
    "    else:\n",
    "        strength_label.config(text=\"Strong\", foreground=\"green\")\n",
    "\n",
    "# Create the main window\n",
    "root = tk.Tk()\n",
    "root.title(\"Password Strength Indicator\")\n",
    "\n",
    "# Create and configure widgets\n",
    "frame = ttk.Frame(root, padding=\"10\")\n",
    "frame.grid(column=0, row=0, sticky=(tk.W, tk.E, tk.N, tk.S))\n",
    "\n",
    "label = ttk.Label(frame, text=\"Enter your password:\")\n",
    "password_entry = ttk.Entry(frame, show=\"*\")\n",
    "strength_label = ttk.Label(frame, text=\"\", foreground=\"black\")\n",
    "\n",
    "check_button = ttk.Button(frame, text=\"Check Strength\", command=check_password_strength)\n",
    "\n",
    "# Grid layout for widgets\n",
    "label.grid(column=0, row=0, columnspan=2, sticky=tk.W)\n",
    "password_entry.grid(column=0, row=1, columnspan=2, sticky=(tk.W, tk.E))\n",
    "check_button.grid(column=0, row=2, columnspan=2)\n",
    "strength_label.grid(column=0, row=3, columnspan=2)\n",
    "\n",
    "root.columnconfigure(0, weight=1)\n",
    "root.rowconfigure(0, weight=1)\n",
    "\n",
    "# Start the Tkinter main loop\n",
    "root.mainloop()\n"
   ]
  },
  {
   "cell_type": "code",
   "execution_count": null,
   "id": "1eb84648",
   "metadata": {},
   "outputs": [],
   "source": []
  }
 ],
 "metadata": {
  "kernelspec": {
   "display_name": "Python 3 (ipykernel)",
   "language": "python",
   "name": "python3"
  },
  "language_info": {
   "codemirror_mode": {
    "name": "ipython",
    "version": 3
   },
   "file_extension": ".py",
   "mimetype": "text/x-python",
   "name": "python",
   "nbconvert_exporter": "python",
   "pygments_lexer": "ipython3",
   "version": "3.11.5"
  }
 },
 "nbformat": 4,
 "nbformat_minor": 5
}
